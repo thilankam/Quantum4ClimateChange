{
 "cells": [
  {
   "cell_type": "code",
   "execution_count": null,
   "id": "9ce0b0e9-1b2d-48dd-84c9-028042fd88d4",
   "metadata": {},
   "outputs": [],
   "source": [
    "# In scikit-learn pipelines, StandardScaler() is used in the as a step in the pipeline, \n",
    "# just before SMOTE and SVM parts, the data is standardized (before SMOTE() is applied).\n",
    "# The same scaling is consistently applied to all folds during cross-validation.\n",
    "# We used stratified K-fold method with n_splits=5\n",
    "# used rbf, linear and polynomial kernels \n"
   ]
  },
  {
   "cell_type": "code",
   "execution_count": null,
   "id": "740df015-85ae-46c7-bd50-94b3efc41b94",
   "metadata": {},
   "outputs": [],
   "source": [
    "from imblearn.pipeline import Pipeline\n",
    "from sklearn.model_selection import StratifiedKFold, cross_val_score\n",
    "from sklearn.svm import SVC\n",
    "from imblearn.over_sampling import SMOTE\n",
    "from sklearn.preprocessing import StandardScaler\n",
    "from sklearn.metrics import classification_report\n",
    "\n",
    "# Stratified k-fold cross-validation\n",
    "skf = StratifiedKFold(n_splits=5) # number statified k folds = 5\n",
    "\n",
    "# Pipeline with StandardScaler, SMOTE, and SVM-rbf kernel.\n",
    "svm_pipeline = Pipeline(steps=[\n",
    "    ('scaler', StandardScaler()),    # Standardization using the StandardScaler() function  using 'scaler'  (Scaling)\n",
    "    ('smote', SMOTE()),              #  Oversampling using SMOTE()\n",
    "    ('svm', SVC(kernel='rbf', class_weight='balanced'))  # SVM with class weighting, using Radial Basis Function (RBF)\n",
    "])\n",
    "\n",
    "# Train and evaluate the model using cross-validation\n",
    "cv_results = cross_val_score(svm_pipeline, x, y, cv=skf, scoring='f1')\n",
    "\n",
    "print(\"Cross-Validated F1 Score for SVM-rbf kernel: \", cv_results.mean())\n",
    "\n",
    "# Train the final model and evaluate\n",
    "svm_pipeline.fit(x, y)\n",
    "y_pred = svm_pipeline.predict(x)\n",
    "print(classification_report(y, y_pred))\n"
   ]
  },
  {
   "cell_type": "code",
   "execution_count": null,
   "id": "89ead942-32ea-4625-88cd-cfd4eaec0f7c",
   "metadata": {},
   "outputs": [],
   "source": [
    "#  SVM (Polynomial Kernel)\n",
    "svm_poly_pipeline = Pipeline(steps=[\n",
    "    ('scaler', StandardScaler()),    # Step 1: Standardization (Scaling)\n",
    "    ('smote', SMOTE()),              # Step 2: Oversampling using SMOTE\n",
    "    ('svm', SVC(kernel='poly', degree=3, class_weight='balanced'))  # Step 3: SVM with Polynomial Kernel and class weighting\n",
    "])\n",
    "\n",
    "# Train and evaluate the model using cross-validation\n",
    "cv_poly_results = cross_val_score(svm_poly_pipeline, x, y, cv=skf, scoring='f1')\n",
    "\n",
    "print(\"Cross-Validated F1 Score for Polynomial kernel : \", cv_poly_results.mean())\n",
    "\n",
    "# Train the final model and evaluate\n",
    "svm_poly_pipeline.fit(x, y)\n",
    "\n",
    "y_pred_poly = svm_poly_pipeline.predict(x)\n",
    "\n",
    "print(classification_report(y, y_pred_poly))"
   ]
  },
  {
   "cell_type": "code",
   "execution_count": null,
   "id": "9b211e4c-1ed1-4d79-be39-6ad957972db9",
   "metadata": {},
   "outputs": [],
   "source": [
    "# Tuning the SVM Polynomial kernel \n",
    "# Parameter grid for tuning the polynomial SVM\n",
    "param_grid = {\n",
    "    'svm__degree': [2, 3, 4],       # Tuning different degrees of the polynomial kernel\n",
    "    'svm__C': [0.1, 1, 10],         # Tuning regularization parameter C\n",
    "    'svm__gamma': ['scale', 'auto'] # Tuning the gamma parameter with 'auto'\n",
    "}\n",
    "\n",
    "# Initialize GridSearchCV\n",
    "grid_search = GridSearchCV(svm_poly_pipeline, param_grid, scoring='f1', cv=5)\n",
    "\n",
    "# Fit the model and search for the best parameters\n",
    "grid_search.fit(x, y)\n",
    "\n",
    "# Print the best parameters and score\n",
    "\n",
    "print(\"Best Parameters for Polynomial SVM:\", grid_search.best_params_)\n",
    "\n",
    "print(\"Best F1 Score:\", grid_search.best_score_)\n",
    "\n"
   ]
  },
  {
   "cell_type": "code",
   "execution_count": null,
   "id": "d77743f7-022f-4a31-ac4e-cb358cb6da9e",
   "metadata": {},
   "outputs": [],
   "source": [
    "# SVM (Linear Kernel)\n",
    "\n",
    "svm_linear_pipeline = Pipeline(steps=[\n",
    "    ('scaler', StandardScaler()),    # Step 1: Standardization (Scaling)\n",
    "    ('smote', SMOTE()),              # Step 2: Oversampling using SMOTE\n",
    "    ('svm', SVC(kernel='linear', class_weight='balanced'))  # Step 3: SVM with Linear Kernel and class weighting\n",
    "])\n",
    "\n",
    "# Train and evaluate the model using cross-validation\n",
    "cv_linear_results = cross_val_score(svm_linear_pipeline, x, y, cv=skf, scoring='f1')\n",
    "\n",
    "print(\"Cross-Validated F1 Score for the Linear kernel: \", cv_linear_results.mean())\n",
    "\n",
    "# Train the final model and evaluate\n",
    "svm_linear_pipeline.fit(x, y)\n",
    "\n",
    "y_pred_linear = svm_linear_pipeline.predict(x)\n",
    "\n",
    "print(classification_report(y, y_pred_linear))"
   ]
  }
 ],
 "metadata": {
  "kernelspec": {
   "display_name": "Python 3 (ipykernel)",
   "language": "python",
   "name": "python3"
  },
  "language_info": {
   "codemirror_mode": {
    "name": "ipython",
    "version": 3
   },
   "file_extension": ".py",
   "mimetype": "text/x-python",
   "name": "python",
   "nbconvert_exporter": "python",
   "pygments_lexer": "ipython3",
   "version": "3.8.19"
  }
 },
 "nbformat": 4,
 "nbformat_minor": 5
}
